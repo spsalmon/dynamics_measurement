{
 "cells": [
  {
   "cell_type": "code",
   "execution_count": 6,
   "metadata": {},
   "outputs": [],
   "source": [
    "from __future__ import print_function, unicode_literals, absolute_import, division\n",
    "import sys\n",
    "import numpy as np\n",
    "import matplotlib\n",
    "# matplotlib.rcParams[\"image.interpolation\"] = None\n",
    "import matplotlib.pyplot as plt\n",
    "\n",
    "from glob import glob\n",
    "from tqdm import tqdm\n",
    "from tifffile import imread\n",
    "# from csbdeep.utils import Path, normalize\n",
    "\n",
    "# from stardist.models import Config2D, StarDist2D, StarDistData2D\n",
    "from towbintools.foundation.file_handling import get_dir_filemap, add_dir_to_experiment_filemap\n",
    "from towbintools.foundation.image_handling import read_tiff_file\n",
    "from tifffile import imwrite\n",
    "from shutil import copy\n",
    "import os\n",
    "\n",
    "plt.rcParams[\"figure.figsize\"] = (15,15)"
   ]
  },
  {
   "cell_type": "code",
   "execution_count": 7,
   "metadata": {},
   "outputs": [],
   "source": [
    "# model = StarDist2D(None, name='stardist_emr_first_try', basedir='models')"
   ]
  },
  {
   "cell_type": "code",
   "execution_count": 8,
   "metadata": {},
   "outputs": [],
   "source": [
    "# def segment_nuclei_stardist(image, model:StarDist2D, axis_norm = (0, 1)) -> None:\n",
    "# \tnuclei_image = image\n",
    "# \tif nuclei_image.ndim > 2:\n",
    "# \t\t# Create an empty array of the same shape as the input image for storing the binary masks of segmented nuclei\n",
    "# \t\tnuclei_mask_stack = np.zeros_like(nuclei_image, dtype=\"uint8\")\n",
    "# \t\t# Perform nuclei segmentation on each plane in the stack\n",
    "# \t\tfor index, plane in enumerate(nuclei_image):\n",
    "# \t\t\timg = normalize(plane, 1,99.8, axis=axis_norm)\n",
    "# \t\t\tlabels, _ = model.predict_instances(img, verbose = False, show_tile_progress=False)\n",
    "\n",
    "# \t\t\t# Store the mask in the output array\n",
    "# \t\t\tnuclei_mask_stack[index, :, :] = (labels).astype(np.uint16)\n",
    "# \t\treturn nuclei_mask_stack\n",
    "# \telse:\n",
    "# \t\timg = normalize(nuclei_image, 1,99.8, axis=axis_norm)\n",
    "# \t\tlabels, _ = model.predict_instances(img, verbose = False, show_tile_progress=False)\n",
    "# \t\treturn labels.astype(np.uint16)"
   ]
  },
  {
   "cell_type": "code",
   "execution_count": 9,
   "metadata": {},
   "outputs": [],
   "source": [
    "raw_dir = \"/mnt/towbin.data/shared/spsalmon/20240524_161257_273_LIPSI_40x_397_405_no_crash/raw_ometiff/pad1\"\n",
    "mask_dir = \"/mnt/towbin.data/shared/spsalmon/20240524_161257_273_LIPSI_40x_397_405_no_crash/analysis/ch1_seg_stardist/pad1\"\n",
    "\n",
    "filemap = get_dir_filemap(raw_dir)\n",
    "filemap = add_dir_to_experiment_filemap(filemap, mask_dir, \"MaskPath\")\n",
    "\n",
    "# keep only files that have a mask\n",
    "filemap = filemap[filemap[\"MaskPath\"] != \"\"]\n",
    "\n",
    "output_img_dir = \"/mnt/towbin.data/shared/spsalmon/20240524_161257_273_LIPSI_40x_397_405_no_crash/nuclei_classification/database/raw/\"\n",
    "output_mask_dir = \"/mnt/towbin.data/shared/spsalmon/20240524_161257_273_LIPSI_40x_397_405_no_crash/nuclei_classification/database/auto_mask/\"\n",
    "\n",
    "os.makedirs(output_img_dir, exist_ok=True)\n",
    "os.makedirs(output_mask_dir, exist_ok=True)"
   ]
  },
  {
   "cell_type": "code",
   "execution_count": 10,
   "metadata": {},
   "outputs": [
    {
     "name": "stdout",
     "output_type": "stream",
     "text": [
      "Found 244 objects in /mnt/towbin.data/shared/spsalmon/20240524_161257_273_LIPSI_40x_397_405_no_crash/analysis/ch1_seg_stardist/pad1/Time00036_Point0025_ChannelmCherry,GFP_Seq2185.ome.tiff\n",
      "Found 203 objects in /mnt/towbin.data/shared/spsalmon/20240524_161257_273_LIPSI_40x_397_405_no_crash/analysis/ch1_seg_stardist/pad1/Time00012_Point0004_ChannelmCherry,GFP_Seq0724.ome.tiff\n",
      "Found 759 objects in /mnt/towbin.data/shared/spsalmon/20240524_161257_273_LIPSI_40x_397_405_no_crash/analysis/ch1_seg_stardist/pad1/Time00264_Point0007_ChannelmCherry,GFP_Seq15847.ome.tiff\n",
      "Found 56 objects in /mnt/towbin.data/shared/spsalmon/20240524_161257_273_LIPSI_40x_397_405_no_crash/analysis/ch1_seg_stardist/pad1/Time00048_Point0008_ChannelmCherry,GFP_Seq2888.ome.tiff\n",
      "Found 600 objects in /mnt/towbin.data/shared/spsalmon/20240524_161257_273_LIPSI_40x_397_405_no_crash/analysis/ch1_seg_stardist/pad1/Time00102_Point0019_ChannelmCherry,GFP_Seq6139.ome.tiff\n"
     ]
    }
   ],
   "source": [
    "# shuffle the filemap\n",
    "filemap = filemap.sample(frac=1)\n",
    "\n",
    "images_to_get = 5\n",
    "\n",
    "\n",
    "for i, row in filemap.iterrows():\n",
    "    raw_path = row[\"ImagePath\"]\n",
    "    mask_path = row[\"MaskPath\"]\n",
    "    mask = imread(mask_path)\n",
    "\n",
    "    number_of_objects = 0\n",
    "\n",
    "    for plane in mask:\n",
    "        number_of_objects += len(np.unique(plane)) - 1\n",
    "    \n",
    "    if number_of_objects > 50 and number_of_objects < 1000:\n",
    "        print(f\"Found {number_of_objects} objects in {mask_path}\")\n",
    "\n",
    "        copy(raw_path, output_img_dir)\n",
    "        copy(mask_path, output_mask_dir)\n",
    "        # print(f\"Found {number_of_objects} objects in {mask_path}\")\n",
    "        # img = read_tiff_file(raw_path, channels_to_keep=[0])\n",
    "        # nuclei_mask = segment_nuclei_stardist(img, model)\n",
    "\n",
    "        images_to_get -= 1\n",
    "        # # plt.imshow(img[10])\n",
    "        # # plt.show()\n",
    "        # # plt.imshow(nuclei_mask[10])\n",
    "        # # plt.show()\n",
    "\n",
    "        # output_img_path = os.path.join(output_img_dir, os.path.basename(raw_path))\n",
    "        # output_mask_path = os.path.join(output_mask_dir, os.path.basename(mask_path))\n",
    "\n",
    "        # imwrite(output_img_path, img, compression = \"zlib\")\n",
    "        # imwrite(output_mask_path, nuclei_mask, compression = \"zlib\")\n",
    "\n",
    "        if images_to_get == 0:\n",
    "            break\n",
    "\n",
    "    "
   ]
  }
 ],
 "metadata": {
  "kernelspec": {
   "display_name": "Python 3",
   "language": "python",
   "name": "python3"
  },
  "language_info": {
   "codemirror_mode": {
    "name": "ipython",
    "version": 3
   },
   "file_extension": ".py",
   "mimetype": "text/x-python",
   "name": "python",
   "nbconvert_exporter": "python",
   "pygments_lexer": "ipython3",
   "version": "3.9.18"
  }
 },
 "nbformat": 4,
 "nbformat_minor": 2
}
