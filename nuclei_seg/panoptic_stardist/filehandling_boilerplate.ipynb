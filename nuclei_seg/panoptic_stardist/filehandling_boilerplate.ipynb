{
 "cells": [
  {
   "cell_type": "code",
   "execution_count": 7,
   "metadata": {},
   "outputs": [],
   "source": [
    "import os\n",
    "import numpy as np\n",
    "from towbintools.foundation.image_handling import read_tiff_file\n",
    "from towbintools.foundation.file_handling import get_dir_filemap, add_dir_to_experiment_filemap\n",
    "from tifffile import imwrite\n",
    "from skimage.measure import label"
   ]
  },
  {
   "cell_type": "code",
   "execution_count": 8,
   "metadata": {},
   "outputs": [
    {
     "name": "stdout",
     "output_type": "stream",
     "text": [
      "Found 6 image-mask pairs\n"
     ]
    }
   ],
   "source": [
    "img_stack_dir = \"/mnt/towbin.data/shared/spsalmon/20240524_161257_273_LIPSI_40x_397_405_no_crash/stardist/database/raw/\"\n",
    "mask_stack_dir = \"/mnt/towbin.data/shared/spsalmon/20240524_161257_273_LIPSI_40x_397_405_no_crash/stardist/database/corrected_mask/\"\n",
    "\n",
    "img_stack_files = sorted([f for f in os.listdir(img_stack_dir) if f.endswith(\".tiff\")])\n",
    "mask_stack_files = sorted([f for f in os.listdir(mask_stack_dir) if f.endswith(\".tiff\")])\n",
    "\n",
    "filemap = get_dir_filemap(img_stack_dir)\n",
    "filemap = add_dir_to_experiment_filemap(filemap, mask_stack_dir, \"MaskPath\")\n",
    "\n",
    "# keep only the rows where the mask file exists\n",
    "filemap = filemap[filemap[\"MaskPath\"] != \"\"]\n",
    "\n",
    "print(f'Found {len(filemap)} image-mask pairs')"
   ]
  },
  {
   "cell_type": "code",
   "execution_count": 9,
   "metadata": {},
   "outputs": [],
   "source": [
    "training_img_dir = \"/mnt/towbin.data/shared/spsalmon/20240524_161257_273_LIPSI_40x_397_405_no_crash/stardist/images/\"\n",
    "training_mask_dir = \"/mnt/towbin.data/shared/spsalmon/20240524_161257_273_LIPSI_40x_397_405_no_crash/stardist/masks/\"\n",
    "\n",
    "os.makedirs(training_img_dir, exist_ok=True)\n",
    "os.makedirs(training_mask_dir, exist_ok=True)\n",
    "\n",
    "# for each mask, go through its plane, and save the corresponding image plane if the mask has more than 10 objects\n",
    "for idx, row in filemap.iterrows():\n",
    "    img_file = row[\"ImagePath\"]\n",
    "    mask_file = row[\"MaskPath\"]\n",
    "\n",
    "    mask = read_tiff_file(mask_file)\n",
    "\n",
    "    for i, mask_plane in enumerate(mask):\n",
    "        if len(np.unique(mask_plane)) > 10:\n",
    "            img_plane = read_tiff_file(img_file)[i]\n",
    "            img_basename = os.path.basename(img_file).replace(\".ome.tiff\", f\"_plane{i}.tiff\")\n",
    "            mask_basename = os.path.basename(mask_file).replace(\".ome.tiff.tiff\", f\"_plane{i}.tiff\")\n",
    "\n",
    "            mask_plane = mask_plane.astype(np.uint16)\n",
    "            mask_plane = label(mask_plane).astype(np.uint16)\n",
    "\n",
    "            img_path = os.path.join(training_img_dir, img_basename)\n",
    "            mask_path = os.path.join(training_mask_dir, mask_basename)\n",
    "\n",
    "            imwrite(img_path, img_plane, compression=\"zlib\")\n",
    "            imwrite(mask_path, mask_plane, compression=\"zlib\")"
   ]
  }
 ],
 "metadata": {
  "kernelspec": {
   "display_name": "Python 3",
   "language": "python",
   "name": "python3"
  },
  "language_info": {
   "codemirror_mode": {
    "name": "ipython",
    "version": 3
   },
   "file_extension": ".py",
   "mimetype": "text/x-python",
   "name": "python",
   "nbconvert_exporter": "python",
   "pygments_lexer": "ipython3",
   "version": "3.9.18"
  }
 },
 "nbformat": 4,
 "nbformat_minor": 2
}
