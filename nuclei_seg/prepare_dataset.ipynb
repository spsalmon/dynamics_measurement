{
 "cells": [
  {
   "cell_type": "code",
   "execution_count": 1,
   "metadata": {},
   "outputs": [],
   "source": [
    "import os\n",
    "import numpy as np\n",
    "import matplotlib.pyplot as plt\n",
    "import pandas as pd\n",
    "import shutil\n",
    "from tifffile import imread, imwrite"
   ]
  },
  {
   "cell_type": "code",
   "execution_count": 2,
   "metadata": {},
   "outputs": [],
   "source": [
    "filemap_path = \"/mnt/towbin.data/shared/spsalmon/20241014_153459_824_ZIVA_40x_443_training_db/analysis/report/analysis_filemap_annotated.csv\"\n",
    "filemap = pd.read_csv(filemap_path)\n",
    "\n",
    "db_path = \"/mnt/towbin.data/shared/spsalmon/20241014_153459_824_ZIVA_40x_443_training_db/training_db_2/\"\n",
    "os.makedirs(db_path, exist_ok=True)\n",
    "os.makedirs(os.path.join(db_path, \"img_ch1\"), exist_ok=True)\n",
    "os.makedirs(os.path.join(db_path, \"img_ch2\"), exist_ok=True)\n",
    "os.makedirs(os.path.join(db_path, \"label\"), exist_ok=True)"
   ]
  },
  {
   "cell_type": "code",
   "execution_count": 3,
   "metadata": {},
   "outputs": [
    {
     "name": "stdout",
     "output_type": "stream",
     "text": [
      "Point 0: Hatch Time: 0.0, M1: 71.0, M2: 121.0, M3: 170.0\n",
      "Point 1: Hatch Time: 19.0, M1: 94.0, M2: 149.0, M3: 200.0\n",
      "Point 2: Hatch Time: 7.0, M1: 86.0, M2: 143.0, M3: 187.0\n",
      "Point 3: Hatch Time: 16.0, M1: 97.0, M2: 149.0, M3: 194.0\n",
      "Point 4: Hatch Time: 7.0, M1: 82.0, M2: 131.0, M3: 182.0\n",
      "Point 5: Hatch Time: 19.0, M1: nan, M2: nan, M3: nan\n",
      "L1: No stack found within the larval stage\n",
      "L2: No stack found within the larval stage\n",
      "L3: No stack found within the larval stage\n",
      "Point 6: Hatch Time: 0.0, M1: 79.0, M2: 140.0, M3: 191.0\n",
      "Point 7: Hatch Time: 7.0, M1: 88.0, M2: 137.0, M3: 187.0\n",
      "Point 8: Hatch Time: 23.0, M1: 101.0, M2: 151.0, M3: 200.0\n",
      "Point 9: Hatch Time: 0.0, M1: 77.0, M2: 128.0, M3: 179.0\n",
      "Point 10: Hatch Time: 25.0, M1: 107.0, M2: 173.0, M3: 218.0\n",
      "Point 11: Hatch Time: 4.0, M1: 80.0, M2: 128.0, M3: 173.0\n",
      "Point 12: Hatch Time: 29.0, M1: 122.0, M2: 179.0, M3: nan\n",
      "L3: No stack found within the larval stage\n",
      "Point 13: Hatch Time: 16.0, M1: 95.0, M2: 146.0, M3: 196.0\n",
      "Point 14: Hatch Time: 25.0, M1: 106.0, M2: 164.0, M3: nan\n",
      "L3: No stack found within the larval stage\n",
      "Point 15: Hatch Time: 13.0, M1: 86.0, M2: 145.0, M3: 196.0\n",
      "Point 16: Hatch Time: 0.0, M1: 76.0, M2: 127.0, M3: 173.0\n",
      "Point 17: Hatch Time: 13.0, M1: 88.0, M2: 140.0, M3: 188.0\n",
      "Point 18: Hatch Time: 0.0, M1: nan, M2: nan, M3: nan\n",
      "L1: No stack found within the larval stage\n",
      "L2: No stack found within the larval stage\n",
      "L3: No stack found within the larval stage\n",
      "Point 19: Hatch Time: 2.0, M1: 76.0, M2: 128.0, M3: 175.0\n",
      "Point 20: Hatch Time: 0.0, M1: 77.0, M2: 131.0, M3: 179.0\n",
      "Point 21: Hatch Time: 0.0, M1: nan, M2: nan, M3: nan\n",
      "L1: No stack found within the larval stage\n",
      "L2: No stack found within the larval stage\n",
      "L3: No stack found within the larval stage\n",
      "Point 22: Hatch Time: 0.0, M1: 73.0, M2: 124.0, M3: 173.0\n",
      "Point 23: Hatch Time: 0.0, M1: 73.0, M2: 128.0, M3: 172.0\n",
      "Point 24: Hatch Time: 26.0, M1: 109.0, M2: 167.0, M3: 215.0\n"
     ]
    }
   ],
   "source": [
    "def pick_within_larval_stage(stacks, stacks_time, ls_beg, ls_end):\n",
    "    if np.isnan(ls_beg) or np.isnan(ls_end):\n",
    "        return None, None\n",
    "\n",
    "    valid_stacks = [(s, t) for s, t in zip(stacks, stacks_time) if ls_beg <= t <= ls_end]\n",
    "    if valid_stacks:\n",
    "        random_stack, random_stack_time = valid_stacks[np.random.randint(len(valid_stacks))]\n",
    "        return random_stack, random_stack_time\n",
    "    else:\n",
    "        return None, None\n",
    "\n",
    "\n",
    "for point in filemap['Point'].unique():\n",
    "    point_df = filemap[filemap['Point'] == point]\n",
    "    hatch_time, m1, m2, m3= point_df['HatchTime'].values[0], point_df['M1'].values[0], point_df['M2'].values[0], point_df['M3'].values[0]\n",
    "\n",
    "    if np.isnan(hatch_time):\n",
    "        hatch_time = 0.\n",
    "    print(f\"Point {point}: Hatch Time: {hatch_time}, M1: {m1}, M2: {m2}, M3: {m3}\")\n",
    "\n",
    "    raw_images = point_df['raw'].values\n",
    "    time = point_df['Time'].values\n",
    "\n",
    "    stacks_idx = [i for i, img_path in enumerate(raw_images) if \"DIA\" not in img_path]\n",
    "    stacks = [raw_images[i] for i in stacks_idx]\n",
    "    stacks_time = [time[i] for i in stacks_idx]\n",
    "\n",
    "    for i, (ls_beg, ls_end) in enumerate([(hatch_time, m1), (m1, m2), (m2, m3)]):\n",
    "        random_stack, random_stack_time = pick_within_larval_stage(stacks, stacks_time, ls_beg, ls_end)\n",
    "\n",
    "        if random_stack:\n",
    "            stack = imread(random_stack)\n",
    "            fake_mask = np.zeros_like(stack)[:, 0]\n",
    "            filename = f\"Time{str(i).zfill(5)}_Point{str(point).zfill(4)}.ome.tiff\"\n",
    "            imwrite(os.path.join(db_path, 'img_ch1', filename), stack[:, 0], compression='zlib')\n",
    "            imwrite(os.path.join(db_path, 'img_ch2', filename), stack[:, 1], compression='zlib')\n",
    "            imwrite(os.path.join(db_path, 'label', filename), fake_mask, compression='zlib')\n",
    "        else:\n",
    "            print(f\"L{i+1}: No stack found within the larval stage\")"
   ]
  },
  {
   "cell_type": "code",
   "execution_count": null,
   "metadata": {},
   "outputs": [],
   "source": []
  }
 ],
 "metadata": {
  "kernelspec": {
   "display_name": "Python 3",
   "language": "python",
   "name": "python3"
  },
  "language_info": {
   "codemirror_mode": {
    "name": "ipython",
    "version": 3
   },
   "file_extension": ".py",
   "mimetype": "text/x-python",
   "name": "python",
   "nbconvert_exporter": "python",
   "pygments_lexer": "ipython3",
   "version": "3.9.18"
  }
 },
 "nbformat": 4,
 "nbformat_minor": 2
}
